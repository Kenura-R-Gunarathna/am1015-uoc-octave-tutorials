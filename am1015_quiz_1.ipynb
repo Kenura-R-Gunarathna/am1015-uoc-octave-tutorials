{
 "cells": [
  {
   "cell_type": "markdown",
   "id": "39cccb42-87ea-40df-8d0e-928c9fda0551",
   "metadata": {},
   "source": [
    "# AM 1015 - Quiz 1"
   ]
  },
  {
   "cell_type": "markdown",
   "id": "d44638d1-50b4-479b-bf0d-b71d6f5a795b",
   "metadata": {},
   "source": [
    "You are asked to help a new sustainable greenhouse farm improve the way it works. This farm grows vegetables and uses special machines and systems to keep track of the vegetables, harvest them, and predict how much money the farm will make. \n",
    "The following are several problems that the farm requires to be solved to work better. These problems  involve understanding how much it costs to grow vegetables, how to plan the farm’s budget, and how to manage the farm’s animals. By solving these problems, you will help the farm run smoothly and grow successfully.\n",
    " \n",
    "### Question 1 – Part A\n",
    "\n",
    "The greenhouse farm grows three types of vegetables: lettuce, tomatoes, and cucumbers. The unit costs for growing these vegetables are unknown, but we know the following:\n",
    "\n",
    "1. In one batch, Farmer X spent Rs. 200 to grow 15 lettuces, 10 tomatoes, and 25 cucumbers.\n",
    "2. Farmer Y spent Rs. 160 to grow 10 lettuces, 15 tomatoes, and 15 cucumbers.\n",
    "3. Farmer Z spent Rs. 120 to grow 20 lettuces, 10 tomatoes, and 10 cucumbers."
   ]
  },
  {
   "cell_type": "markdown",
   "id": "6b52306f-9992-425d-a354-17ec0799d23a",
   "metadata": {},
   "source": [
    "1. Define the unit costs of lettuce, tomato, and cucumber as x_1, x_2, x_3 respectively. Write a system of linear equations to represent the cost relationships."
   ]
  },
  {
   "cell_type": "code",
   "execution_count": 16,
   "id": "bf5103a0-7472-4b9b-971a-a1d500c1847d",
   "metadata": {},
   "outputs": [],
   "source": [
    "% lettuce(l), tomatoes(t), cucumbers(c)\n",
    "\n",
    "% X: 200 = 15*l + 10*t + 25*c\n",
    "% Y: 160 = 10*l + 15*t + 15*c\n",
    "% Z: 120 = 20*l + 10*t + 10*c\n",
    "\n",
    "% --------------------------------------\n",
    "\n",
    "% lettuce(x_1), tomatoes(x_2), cucumbers(x_3)\n",
    "\n",
    "% X: 200 = 15*x_1 + 10*x_2 + 25*x_3\n",
    "% Y: 160 = 10*x_1 + 15*x_2 + 15*x_3\n",
    "% Z: 120 = 20*x_1 + 10*x_2 + 10*x_3"
   ]
  },
  {
   "cell_type": "markdown",
   "id": "0eb945b1-21c1-4b7d-8717-033011fafd54",
   "metadata": {},
   "source": [
    "2. Rewrite the above system in the matrix form $AX=B$, where A is a $3\\times3$ matrix, $X\\ =\\left(\\ x_1\\ x_2\\ x_3\\ \\right)$ is the unit cost matrix and B is the total cost matrix"
   ]
  },
  {
   "cell_type": "code",
   "execution_count": 12,
   "id": "68b3e7ec-929d-43f5-96b7-13726afd97d8",
   "metadata": {},
   "outputs": [
    {
     "name": "stdout",
     "output_type": "stream",
     "text": [
      "A =\n",
      "\n",
      "   15   10   25\n",
      "   10   15   15\n",
      "   20   10   10\n",
      "\n",
      "B =\n",
      "\n",
      "   200\n",
      "   160\n",
      "   120\n",
      "\n"
     ]
    }
   ],
   "source": [
    "A = [15 10 25; 10 15 15; 20 10 10]\n",
    "% X = [x_1; x_2; x_3]\n",
    "B = [200; 160; 120]"
   ]
  },
  {
   "cell_type": "markdown",
   "id": "517fdc9f-8827-46a5-b58b-cf3678deef54",
   "metadata": {},
   "source": [
    "3. Create an Octave script (save the file as “your index number_Quiz_1_Q1”) to solve the system you obtain in part (b). Write down the unit cost of each vegetable rounded to the nearest whole number. "
   ]
  },
  {
   "cell_type": "code",
   "execution_count": 29,
   "id": "29f48f1a-557e-4a43-bf06-e7334ad31777",
   "metadata": {},
   "outputs": [
    {
     "name": "stdout",
     "output_type": "stream",
     "text": [
      "A =\n",
      "\n",
      "   15   10   25\n",
      "   10   15   15\n",
      "   20   10   10\n",
      "\n",
      "B =\n",
      "\n",
      "   200\n",
      "   160\n",
      "   120\n",
      "\n",
      "X =\n",
      "\n",
      "   1.0000\n",
      "   4.3333\n",
      "   5.6667\n",
      "\n",
      "lettuce: 1\n",
      "tomatoes: 4\n",
      "cucumbers: 6\n"
     ]
    }
   ],
   "source": [
    "A = [15 10 25; 10 15 15; 20 10 10]\n",
    "B = [200; 160; 120]\n",
    "\n",
    "X = inv(A)*B\n",
    "\n",
    "printf(\"lettuce: %.0f\\n\", X(1,1));\n",
    "printf(\"tomatoes: %.0f\\n\", X(2,1));\n",
    "printf(\"cucumbers: %.0f\\n\", X(3,1));"
   ]
  },
  {
   "cell_type": "markdown",
   "id": "453f4e07-a160-45dc-aea9-0c4327336665",
   "metadata": {},
   "source": [
    "## Question 1 – Part B\n",
    "\n",
    "The farm uses the vegetables it grows to make weekly produce boxes for customers. Each box contains a variety of fresh vegetables that are packed and sent to customers every week. These boxes are carefully planned so that they have the right amount of vegetables to meet the needs of a small family. A standard box includes 5 lettuces, 3 tomatoes, and 2 cucumbers. <br>\n",
    "For questions part (d), (e) and (f), clearly show your workings on the octave file named “your index number_Quiz_1_Q1”.\n"
   ]
  },
  {
   "cell_type": "code",
   "execution_count": null,
   "id": "a1f888f3-baff-4cbb-ab38-3ac2e77c7287",
   "metadata": {},
   "outputs": [],
   "source": [
    "% standard pack: 5 lettuces(x_1), 3 tomatoes(x_2), and 2 cucumbers(x_3)\n"
   ]
  },
  {
   "cell_type": "markdown",
   "id": "db325ed1-9273-46b4-90e6-3473e571c16a",
   "metadata": {},
   "source": [
    "d. Using the rounded unit costs found in part (c), calculate the cost of producing one box."
   ]
  },
  {
   "cell_type": "code",
   "execution_count": 46,
   "id": "58f29a2c-fb79-44a2-bbf0-bb2fd20969c0",
   "metadata": {},
   "outputs": [
    {
     "name": "stdout",
     "output_type": "stream",
     "text": [
      "lettuce: 1\n",
      "tomatoes: 4\n",
      "cucumbers: 6\n",
      "standard_pack_price = 29\n"
     ]
    }
   ],
   "source": [
    "A = [15 10 25; 10 15 15; 20 10 10];\n",
    "B = [200; 160; 120];\n",
    "\n",
    "X = inv(A)*B;\n",
    "\n",
    "x_1 = round(X(1,1));\n",
    "x_2 = round(X(2,1));\n",
    "x_3 = round(X(3,1));\n",
    "\n",
    "printf(\"lettuce: %.0f\\n\", x_1);\n",
    "printf(\"tomatoes: %.0f\\n\", x_2);\n",
    "printf(\"cucumbers: %.0f\\n\", x_3);\n",
    "\n",
    "standard_pack_price = 5*x_1 + 3*x_2 + 2*x_3"
   ]
  },
  {
   "cell_type": "markdown",
   "id": "f35fb108-3fec-4501-b8e4-898eab954bd3",
   "metadata": {},
   "source": [
    "e. If the farm produces 100 boxes in one week, calculate the total cost of production."
   ]
  },
  {
   "cell_type": "code",
   "execution_count": 52,
   "id": "a7d3c641-4c7b-444d-8bae-fbea85b77dad",
   "metadata": {},
   "outputs": [
    {
     "name": "stdout",
     "output_type": "stream",
     "text": [
      "total_production_cost = 2900\n"
     ]
    }
   ],
   "source": [
    "n_boxes = 100;\n",
    "total_production_cost = n_boxes * standard_pack_price"
   ]
  },
  {
   "cell_type": "markdown",
   "id": "151d97bc-9e9c-4de0-a6db-72259137d69e",
   "metadata": {},
   "source": [
    "f. The farm sells each box for Rs. 35. Calculate the total weekly revenue and weekly profit of producing 100 boxes in one week. "
   ]
  },
  {
   "cell_type": "code",
   "execution_count": 54,
   "id": "2074ba5e-4e82-4cb2-99b5-e9afac5cc8b5",
   "metadata": {},
   "outputs": [
    {
     "name": "stdout",
     "output_type": "stream",
     "text": [
      "total_weekly_revenue = 3500\n",
      "weekly_profit = 600\n"
     ]
    }
   ],
   "source": [
    "selling_price = 35;\n",
    "\n",
    "total_weekly_revenue = n_boxes * selling_price\n",
    "weekly_profit = total_weekly_revenue - total_production_cost"
   ]
  },
  {
   "cell_type": "markdown",
   "id": "a6c83383-02f3-46b9-ae70-4a799a642954",
   "metadata": {},
   "source": [
    "## Question 2 \n",
    "\n",
    "The farm also keeps a small population of chickens. The change in the chicken population over time depends only on two main factors. They are the number of new chicks born every year and the number of chickens harvested. There is a 30% annual growth rate observed in the chicken population due to birth of new chicks. 60 chickens are harvested each year. \n"
   ]
  },
  {
   "cell_type": "markdown",
   "id": "61663c10-3131-4126-9c7c-652ab5c450b9",
   "metadata": {},
   "source": [
    "a. . Suppose the population at the end of the ${(n+1)}^{st}$ year is  $P_{n+1}$. Using the information given in the description, formulate the mathematical model that describes the chicken population of the farm. "
   ]
  },
  {
   "cell_type": "code",
   "execution_count": null,
   "id": "0cd6754c-fd68-43ca-9a84-a56d77c2d7c3",
   "metadata": {},
   "outputs": [],
   "source": [
    "% P : chicken population \n",
    "% t : time\n",
    "\n",
    "% ncby :  number of new chicks born every year - dP/dt = 0.3P\n",
    "% nchy : number of chickens harvested every year - 60\n",
    "\n",
    "% n: 0, 1, ... n-1, n, n+1, ... \n",
    "\n",
    "% P(n+1) = P(n) + 0.3*P(n) - 60\n",
    "% P(n+1) = (1 + 0.3)*P(n) - 60\n",
    "\n",
    "% ncby = 0.3\n",
    "% nchy = 60\n",
    "% p_n_1 = (1+ncby)*pn - nchy"
   ]
  },
  {
   "cell_type": "markdown",
   "id": "983ff011-4be5-4f8b-a15c-f75e35e52597",
   "metadata": {},
   "source": [
    "b. In a new octave file named “your index number_Quiz_1_Q2”, simulate the chicken population over 15 years for an initial population of  $$P_0=200$$ chickens. Plot the population dynamics on a graph. Label the x-axis, y-axis and provide a meaningful title. Insert a screenshot of the plot. "
   ]
  },
  {
   "cell_type": "code",
   "execution_count": 78,
   "id": "9236303f-b726-4ea6-a67e-c8675f46a346",
   "metadata": {},
   "outputs": [
    {
     "name": "stdout",
     "output_type": "stream",
     "text": [
      "p_0 = 200\n",
      "ncby = 0.3000\n",
      "nchy = 60\n",
      "Checken population in 15 years when a0 = 200 is: 200.00\n"
     ]
    },
    {
     "data": {
      "image/png": "[encoded data removed]",
      "text/plain": [
       "<IPython.core.display.Image object>"
      ]
     },
     "metadata": {},
     "output_type": "display_data"
    }
   ],
   "source": [
    "% P : chicken population \n",
    "% t : time\n",
    "\n",
    "% ncby :  number of new chickens born every year - 0.3P\n",
    "% nchy : number of chickens harvested every year - 60\n",
    "\n",
    "% n: 0, 1, ... n-1, n, n+1, ... \n",
    "\n",
    "% P(n+1) = P(n) + 0.3*P(n) - 60\n",
    "% P(n+1) = (1 + 0.3)*P(n) - 60\n",
    "\n",
    "graphics_toolkit(\"gnuplot\");\n",
    "\n",
    "time = 15; % years\n",
    "p_0 = 200 % initial no of chickens\n",
    "ncby = 0.3 % growth rate per annum\n",
    "nchy = 60 % yearly harvested no of chickens\n",
    "\n",
    "t = 0:1:time;\n",
    "p_n = zeros(1, time+1);\n",
    "p_n(1, 1) = p_0;\n",
    "\n",
    "for i = 1:1:time,\n",
    "    p_n(1, i+1) = (ncby + 1) * p_n(1, i) - nchy;\n",
    "end\n",
    "\n",
    "% P(t+1) = (ncby + 1) * P(t)\n",
    "\n",
    "plot(t, p_n(1,:), \"b\");\n",
    "xlabel(\"Time (years-t)\");\n",
    "ylabel(\"Chicken Population (n)\");\n",
    "title(\"Plot of Chicken Population vs Time\");\n",
    "legend(\"P_0 = 200\");\n",
    "grid on;\n",
    "\n",
    "printf(\"Checken population in %d years when a0 = %d is: %.2f\\n\", time, p_0, p_n(1, time+1)); % nth year"
   ]
  },
  {
   "cell_type": "markdown",
   "id": "874d13aa-9815-4bd3-92d2-517980f65662",
   "metadata": {},
   "source": [
    "c. Consider the 3 cases where the initial population is $P_0=100$, $P_0=200$ and $P_0=500$. Plot the population dynamics of all 3 cases on the same graph and insert a screenshot of the plot. "
   ]
  },
  {
   "cell_type": "code",
   "execution_count": 85,
   "id": "5b34894e-291d-4553-a07c-97e4b2babc69",
   "metadata": {},
   "outputs": [
    {
     "name": "stdout",
     "output_type": "stream",
     "text": [
      "ncby = 0.3000\n",
      "nchy = 60\n",
      "Checken population in 15 years when a0 = 100 is: -4918.59\n",
      "Checken population in 15 years when a0 = 200 is: 200.00\n",
      "Checken population in 15 years when a0 = 300 is: 15555.77\n"
     ]
    },
    {
     "data": {
      "image/png": "[encoded data removed]",
      "text/plain": [
       "<IPython.core.display.Image object>"
      ]
     },
     "metadata": {},
     "output_type": "display_data"
    }
   ],
   "source": [
    "% % P : chicken population \n",
    "% % t : time\n",
    "\n",
    "% % ncby :  number of new chickens born every year - 0.3P\n",
    "% % nchy : number of chickens harvested every year - 60\n",
    "\n",
    "% % n: 0, 1, ... n-1, n, n+1, ... \n",
    "\n",
    "% % P(n+1) = P(n) + 0.3*P(n) - 60\n",
    "% % P(n+1) = (1 + 0.3)*P(n) - 60\n",
    "\n",
    "% graphics_toolkit(\"gnuplot\");\n",
    "\n",
    "% time = 15; % years\n",
    "% ncby = 0.3 % growth rate per annum\n",
    "% nchy = 60 % yearly harvested no of chickens\n",
    "\n",
    "% t = 0:1:time;\n",
    "% p_n = zeros(3, time+1);\n",
    "\n",
    "% % initial no of chickens\n",
    "% p_n(1, 1) = 100;\n",
    "% p_n(2, 1) = 200;\n",
    "% p_n(3, 1) = 500;\n",
    "\n",
    "% for i = 1:1:time,\n",
    "%     p_n(1, i+1) = (ncby + 1) * p_n(1, i) - nchy;\n",
    "%     p_n(2, i+1) = (ncby + 1) * p_n(2, i) - nchy;\n",
    "%     p_n(3, i+1) = (ncby + 1) * p_n(3, i) - nchy;\n",
    "% end\n",
    "\n",
    "% % P(t+1) = (ncby + 1) * P(t)\n",
    "\n",
    "% plot(t, p_n(1,:), \"b\", t, p_n(2,:), \"r\", t, p_n(3,:), \"g\");\n",
    "% xlabel(\"Time (years-t)\");\n",
    "% ylabel(\"Chicken Population (n)\");\n",
    "% title(\"Plot of Chicken Population vs Time\");\n",
    "% legend(\"P_0 = 100\", \"P_0 = 200\", \"P_0 = 500\");\n",
    "% grid on;\n",
    "\n",
    "% printf(\"Checken population in %d years when a0 = %d is: %.2f\\n\", time, 100, p_n(1, time+1)); % nth year\n",
    "% printf(\"Checken population in %d years when a0 = %d is: %.2f\\n\", time, 200, p_n(2, time+1)); % nth year\n",
    "% printf(\"Checken population in %d years when a0 = %d is: %.2f\\n\", time, 300, p_n(3, time+1)); % nth year"
   ]
  },
  {
   "cell_type": "code",
   "execution_count": 99,
   "id": "af4f0788-41b0-43d6-9fb1-d80fa68fb51c",
   "metadata": {},
   "outputs": [
    {
     "name": "stdout",
     "output_type": "stream",
     "text": [
      "ncby = 0.3000\n",
      "nchy = 60\n",
      "ini_cond =\n",
      "\n",
      "   100   200   500\n",
      "\n",
      "Checken population in 15 years when a0 = 100 is: -4919\n",
      "Checken population in 15 years when a0 = 200 is: 200\n",
      "Checken population in 15 years when a0 = 500 is: 15556\n"
     ]
    },
    {
     "data": {
      "image/png": "[encoded data removed]",
      "text/plain": [
       "<IPython.core.display.Image object>"
      ]
     },
     "metadata": {},
     "output_type": "display_data"
    }
   ],
   "source": [
    "% P : chicken population \n",
    "% t : time\n",
    "\n",
    "% ncby :  number of new chickens born every year - 0.3P\n",
    "% nchy : number of chickens harvested every year - 60\n",
    "\n",
    "% n: 0, 1, ... n-1, n, n+1, ... \n",
    "\n",
    "% P(n+1) = P(n) + 0.3*P(n) - 60\n",
    "% P(n+1) = (1 + 0.3)*P(n) - 60\n",
    "\n",
    "graphics_toolkit(\"gnuplot\");\n",
    "\n",
    "time = 15; % years\n",
    "ncby = 0.3 % growth rate per annum\n",
    "nchy = 60 % yearly harvested no of chickens\n",
    "\n",
    "t = 0:1:time;\n",
    "p_n = zeros(3, time+1);\n",
    "ini_cond = [100 200 500] % initial no of chickens\n",
    "\n",
    "for n = 1:1:length(ini_cond),\n",
    "    p_n(n, 1) = ini_cond(1, n);\n",
    "end\n",
    "\n",
    "for i = 1:1:time,\n",
    "    for j = 1:1:length(ini_cond),\n",
    "        p_n(j, i+1) = (ncby + 1) * p_n(j, i) - nchy;\n",
    "    end\n",
    "end\n",
    "\n",
    "% P(t+1) = (ncby + 1) * P(t)\n",
    "\n",
    "hold on;\n",
    "plot(t, p_n(1,:), \"b\", t, p_n(2,:), \"r\", t, p_n(3,:), \"g\");\n",
    "xlabel(\"Time (years-t)\");\n",
    "ylabel(\"Chicken Population (n)\");\n",
    "title(\"Plot of Chicken Population vs Time\");\n",
    "legend(\"P_0 = 100\", \"P_0 = 200\", \"P_0 = 500\");\n",
    "grid on;\n",
    "hold off;\n",
    "\n",
    "for m = 1:1:length(ini_cond),\n",
    "    printf(\"Checken population in %d years when a0 = %d is: %.0f\\n\", time, ini_cond(1, m), p_n(m, time+1)); % nth year\n",
    "end"
   ]
  },
  {
   "cell_type": "markdown",
   "id": "b1a0e0fc-f5b4-4d18-b8a3-8dd3ab288d45",
   "metadata": {},
   "source": [
    "d. Discuss the stability of each starting population P_0=100, P_0=200 and P_0=500. Based on the population behavior decide which starting number of chickens would work best for the farm to manage over the next 15 years. State reasons for your decision. "
   ]
  },
  {
   "cell_type": "markdown",
   "id": "4e294ebf-a0fd-4e38-a123-dbf6e698bd1f",
   "metadata": {},
   "source": [
    "## Question 03\n",
    "The farm plans to expand and hire workers. The manager needs to estimate each worker's expected earnings, which are proportional to the hours worked. The following data is provided:\n",
    "Hours Worked (h)\tIncome ($)\n",
    "0\t0\n",
    "1\t16\n",
    "2\t32\n",
    "3\t48\n",
    "4\t52\n",
    "5\t72\n",
    "\n",
    "Create a new octave file named “your index number_Quiz_1_Q3” to complete following tasks.\n",
    "a.\tUse the polyfit function to find the best-fit straight line for the data.\n",
    "b.\tIdentify the proportionality constant k. \n"
   ]
  }
 ],
 "metadata": {
  "kernelspec": {
   "display_name": "Octave",
   "language": "octave",
   "name": "octave"
  },
  "language_info": {
   "file_extension": ".m",
   "help_links": [
    {
     "text": "GNU Octave",
     "url": "https://www.gnu.org/software/octave/support.html"
    },
    {
     "text": "Octave Kernel",
     "url": "https://github.com/Calysto/octave_kernel"
    },
    {
     "text": "MetaKernel Magics",
     "url": "https://metakernel.readthedocs.io/en/latest/source/README.html"
    }
   ],
   "mimetype": "text/x-octave",
   "name": "octave",
   "version": "9.2.0"
  }
 },
 "nbformat": 4,
 "nbformat_minor": 5
}
