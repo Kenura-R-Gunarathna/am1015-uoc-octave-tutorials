{
 "cells": [
  {
   "cell_type": "markdown",
   "id": "806ef6c0-3854-4a9b-adbe-f7019a7fb104",
   "metadata": {},
   "source": [
    "# Assignment 2 - AM 1015"
   ]
  },
  {
   "cell_type": "markdown",
   "id": "04d8ad69-6800-411e-8bc0-dd5d258d63b8",
   "metadata": {},
   "source": [
    "Sithum wants to create a table showing how much money he will make in __one to six hours__ of work.\n",
    "<br>\n",
    "work_time = [1 1.5 2 2.5 3 3.5 4 4.5 5 5.5 6] hours (x)<br>\n",
    "dollars   = [4 12 15 25 32 28 37 35 38 39 42] $     (y)"
   ]
  },
  {
   "cell_type": "code",
   "execution_count": 21,
   "id": "8e895269-ab67-4d5b-99e7-1728c3a5083a",
   "metadata": {},
   "outputs": [
    {
     "name": "stdout",
     "output_type": "stream",
     "text": [
      "working_duration =\n",
      "\n",
      " Columns 1 through 8:\n",
      "\n",
      "    1.0000    1.5000    2.0000    2.5000    3.0000    3.5000    4.0000    4.5000\n",
      "\n",
      " Columns 9 through 11:\n",
      "\n",
      "    5.0000    5.5000    6.0000\n",
      "\n",
      "income =\n",
      "\n",
      "    4   12   15   25   32   28   37   35   38   39   42\n",
      "\n"
     ]
    }
   ],
   "source": [
    "working_duration = 1:1/2:6\n",
    "income           = [4 12 15 25 32 28 37 35 38 39 42]"
   ]
  },
  {
   "cell_type": "markdown",
   "id": "9dfa6d95-46eb-4807-bb27-8c8e2e4180b5",
   "metadata": {},
   "source": [
    "1. Create an Octave script to obtain below mentioned results. Save your file as “your index number_Prac02”\n",
    "Adding a trivial data point (0, 0), plot a scatter graph to represent above information. (You first need to make two row vectors to represent above data and label the axes meaningfully. Also give a meaning full title to the graph). Upload a screenshot of the graph below, clearly showing the title and axes. "
   ]
  },
  {
   "cell_type": "code",
   "execution_count": 27,
   "id": "ec35dbdb-bb51-4f67-aa4f-465245819242",
   "metadata": {},
   "outputs": [
    {
     "name": "stdout",
     "output_type": "stream",
     "text": [
      "general_working_duration =\n",
      "\n",
      " Columns 1 through 8:\n",
      "\n",
      "        0   1.0000   1.5000   2.0000   2.5000   3.0000   3.5000   4.0000\n",
      "\n",
      " Columns 9 through 12:\n",
      "\n",
      "   4.5000   5.0000   5.5000   6.0000\n",
      "\n",
      "general_income =\n",
      "\n",
      "    0    4   12   15   25   32   28   37   35   38   39   42\n",
      "\n"
     ]
    },
    {
     "data": {
      "image/png": "[encoded data removed]",
      "text/plain": [
       "<IPython.core.display.Image object>"
      ]
     },
     "metadata": {},
     "output_type": "display_data"
    }
   ],
   "source": [
    "general_working_duration = [0 working_duration]\n",
    "general_income           = [0 income]\n",
    "\n",
    "graphics_toolkit(\"gnuplot\");\n",
    "plot(general_working_duration, general_income, \"ro\")\n",
    "hold on\n",
    "xlabel(\"Working Duration (Hours)\")\n",
    "ylabel(\"Income ($)\")\n",
    "title(\"Income vs Working Duration\")\n",
    "grid on;\n",
    "hold off"
   ]
  },
  {
   "cell_type": "markdown",
   "id": "f92d1c1e-ad47-48b8-ac7e-c2af82ce7bb3",
   "metadata": {},
   "source": [
    "2. Use polyfit command to obtain the best fitted straight line to the given data. Using the result, find constant of the proportionality (k) approximately.\n",
    "<br>\n",
    "Enter the constant of the proportionality (k) = ........................\n",
    "<br>\n",
    "(Answer must have up to 4 decimal points)"
   ]
  },
  {
   "cell_type": "code",
   "execution_count": 72,
   "id": "84150777-3677-403b-90a9-9ccefde678b0",
   "metadata": {},
   "outputs": [
    {
     "name": "stdout",
     "output_type": "stream",
     "text": [
      "p =\n",
      "\n",
      "   7.3728   1.9290\n",
      "\n",
      "Slope (m): 7.3728\n",
      "Intercept (c): 1.929\n",
      "Proportionality (k): 7.3728\n"
     ]
    }
   ],
   "source": [
    "p = polyfit(general_working_duration, general_income, 1)\n",
    "\n",
    "% Display coefficients\n",
    "disp(['Slope (m): ', num2str(p(1))]);\n",
    "disp(['Intercept (c): ', num2str(p(2))]);\n",
    "disp(['Proportionality (k): ', num2str(p(1))]);"
   ]
  },
  {
   "cell_type": "markdown",
   "id": "6a1c09f3-e57a-495f-b5d8-b75c45c6c616",
   "metadata": {},
   "source": [
    "3. Use polyfit command to obtain the best fitted straight line to the given data. Using the result, write down the estimated model.\n",
    "<br>\n",
    "The estimated model: ...............................\n",
    "<br>\n",
    "Keep answer in the format: (...............×hours) + ............. \n",
    "Up to 4 decimal points for each blank"
   ]
  },
  {
   "cell_type": "code",
   "execution_count": 51,
   "id": "7e136efe-17e7-4720-8ef9-0ed56e8b6a27",
   "metadata": {},
   "outputs": [
    {
     "name": "stdout",
     "output_type": "stream",
     "text": [
      "Fitted Model: y = 7.3728x + 1.929\n",
      "Fitted Model: Income = 7.3728 x Hours + 1.929\n"
     ]
    }
   ],
   "source": [
    "disp(['Fitted Model: y = ' num2str(p(1)) 'x + ' num2str(p(2))]);\n",
    "disp(['Fitted Model: Income = ' num2str(p(1)) ' x Hours + ' num2str(p(2))]);"
   ]
  },
  {
   "cell_type": "markdown",
   "id": "8f671a22-8343-4b86-8f64-be062f448837",
   "metadata": {},
   "source": [
    "4. Using the model, obtain the approximated earning. Hence plot the estimated values in the same figure you obtained in part (a). Insert a screenshot of the graph obtained clearly showing title and axes. "
   ]
  },
  {
   "cell_type": "code",
   "execution_count": 42,
   "id": "44e0b6b3-ae79-4bdf-a5df-aadeab01309a",
   "metadata": {},
   "outputs": [
    {
     "name": "stdout",
     "output_type": "stream",
     "text": [
      "predicted_incomes =\n",
      "\n",
      " Columns 1 through 8:\n",
      "\n",
      "    1.9290    9.3018   12.9882   16.6746   20.3609   24.0473   27.7337   31.4201\n",
      "\n",
      " Columns 9 through 12:\n",
      "\n",
      "   35.1065   38.7929   42.4793   46.1657\n",
      "\n"
     ]
    },
    {
     "data": {
      "image/png": "[encoded data removed]",
      "text/plain": [
       "<IPython.core.display.Image object>"
      ]
     },
     "metadata": {},
     "output_type": "display_data"
    }
   ],
   "source": [
    "predicted_incomes = polyval(p, general_working_duration)\n",
    "plot(general_working_duration, general_income, 'bo', general_working_duration, predicted_incomes, 'r-', 'LineWidth', 2);\n",
    "hold on;\n",
    "xlabel(\"Working Duration (Hours)\");\n",
    "ylabel(\"Predicted Income ($)\");\n",
    "title(['Income vs Working Duration - Fitted Model: y = ' num2str(p(1)) 'x + ' num2str(p(2))]);\n",
    "legend('Data', 'Fitted Line');\n",
    "grid on;\n",
    "hold off;"
   ]
  },
  {
   "cell_type": "markdown",
   "id": "b9b834b4-eb8a-4528-a1dc-cff59477b37d",
   "metadata": {},
   "source": [
    "5. Using the estimated model, predict the income that Sithum will get for 4.15 working hours.\n",
    "<br>\n",
    "Income: …………………………….\n",
    "<br>\n",
    "(Answer must have up to 4 decimal points)"
   ]
  },
  {
   "cell_type": "code",
   "execution_count": 78,
   "id": "c6f35b3b-18e7-4db3-a11f-2f7f1135ee82",
   "metadata": {},
   "outputs": [
    {
     "name": "stdout",
     "output_type": "stream",
     "text": [
      "predicted_income_for_4_15_hours = 32.526\n"
     ]
    }
   ],
   "source": [
    "predicted_income_for_4_15_hours = polyval(p, 4.15)"
   ]
  },
  {
   "cell_type": "markdown",
   "id": "bbb5a94b-f02c-4a06-a591-b49767d622cf",
   "metadata": {},
   "source": [
    "6. If the income is $50, find the working hours.\n",
    "<br>\n",
    "Working hours = ………………\n",
    "<br>\n",
    "(Answer must have up to 4 decimal points)"
   ]
  },
  {
   "cell_type": "code",
   "execution_count": 68,
   "id": "0daf485f-19ed-43a5-aff2-554d0c9fc342",
   "metadata": {},
   "outputs": [
    {
     "name": "stdout",
     "output_type": "stream",
     "text": [
      "f_word = (sym) c + duration*m = income\n",
      "sol = (sym)\n",
      "\n",
      "  -c + income\n",
      "  -----------\n",
      "       m     \n",
      "\n",
      "warning: passing floating-point values to sym is dangerous, see \"help sym\"\n",
      "warning: called from\n",
      "    double_to_sym_heuristic at line 50 column 7\n",
      "    sym at line 384 column 13\n",
      "    mtimes at line 54 column 5\n",
      "\n",
      "warning: passing floating-point values to sym is dangerous, see \"help sym\"\n",
      "warning: called from\n",
      "    double_to_sym_heuristic at line 50 column 7\n",
      "    sym at line 384 column 13\n",
      "    plus at line 53 column 5\n",
      "\n",
      "f = (sym)\n",
      "\n",
      "  1246*x   326     \n",
      "  ------ + --- = 50\n",
      "   169     169     \n",
      "\n",
      "sol = (sym)\n",
      "\n",
      "  4062\n",
      "  ----\n",
      "  623 \n",
      "\n",
      "duration_for_50 = 6.5201\n"
     ]
    }
   ],
   "source": [
    "pkg load symbolic\n",
    "\n",
    "syms x y m c income duration\n",
    "% income = m * duration + c\n",
    "f_word = m*duration + c == income\n",
    "sol = solve(f_word, duration)\n",
    "\n",
    "f = p(1)*x + p(2) == 50\n",
    "sol = solve(f, x)\n",
    "\n",
    "% method 2\n",
    "duration_for_50 = (50 - p(2))/p(1)"
   ]
  }
 ],
 "metadata": {
  "kernelspec": {
   "display_name": "Octave",
   "language": "octave",
   "name": "octave"
  },
  "language_info": {
   "file_extension": ".m",
   "help_links": [
    {
     "text": "GNU Octave",
     "url": "https://www.gnu.org/software/octave/support.html"
    },
    {
     "text": "Octave Kernel",
     "url": "https://github.com/Calysto/octave_kernel"
    },
    {
     "text": "MetaKernel Magics",
     "url": "https://metakernel.readthedocs.io/en/latest/source/README.html"
    }
   ],
   "mimetype": "text/x-octave",
   "name": "octave",
   "version": "9.2.0"
  }
 },
 "nbformat": 4,
 "nbformat_minor": 5
}
