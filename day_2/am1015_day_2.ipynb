{
 "cells": [
  {
   "cell_type": "code",
   "execution_count": 3,
   "id": "889baa9d-e34b-4736-967b-b4867efcbc72",
   "metadata": {},
   "outputs": [],
   "source": [
    "function latexOut(f)\n",
    "    disp(['$$' latex(f) '$$'])\n",
    "endfunction"
   ]
  },
  {
   "cell_type": "code",
   "execution_count": 4,
   "id": "6c709a3c-9847-4bc9-98b5-006168134002",
   "metadata": {},
   "outputs": [],
   "source": [
    "pkg load symbolic"
   ]
  },
  {
   "cell_type": "markdown",
   "id": "8528f7bb-1341-453d-bca0-34c248d4fcb2",
   "metadata": {},
   "source": [
    "## 1. General solution for quadratic equation ax^2 + bx + c = 0"
   ]
  },
  {
   "cell_type": "code",
   "execution_count": 6,
   "id": "90b70867-a0fc-447a-b98e-196975916b5a",
   "metadata": {},
   "outputs": [
    {
     "name": "stdout",
     "output_type": "stream",
     "text": [
      "Symbolic pkg v3.2.1: Python communication link active, SymPy v1.13.3.\n",
      "General solution for quadratic equation:\n",
      "ans = $$\\left[\\begin{matrix}- \\frac{b}{2 a} - \\frac{\\sqrt{- 4 a c + b^{2}}}{2 a}\\\\- \\frac{b}{2 a} + \\frac{\\sqrt{- 4 a c + b^{2}}}{2 a}\\end{matrix}\\right]$$\n"
     ]
    }
   ],
   "source": [
    "pkg load symbolic  % Load the symbolic package\n",
    "\n",
    "% 1. General solution for quadratic equation ax^2 + bx + c = 0\n",
    "syms a b c x\n",
    "quadratic_eq = a*x^2 + b*x + c == 0;\n",
    "sol_quadratic = solve(quadratic_eq, x);\n",
    "disp('General solution for quadratic equation:');\n",
    "['$$' latex(sol_quadratic) '$$']\n"
   ]
  },
  {
   "cell_type": "markdown",
   "id": "2b45aa41-b8c4-4277-96e8-fb8d9c473dfe",
   "metadata": {},
   "source": [
    "General solution for quadratic equation:\n",
    "\n",
    "ans = $$\\left[\\begin{matrix}- \\frac{b}{2 a} - \\frac{\\sqrt{- 4 a c + b^{2}}}{2 a}\\\\- \\frac{b}{2 a} + \\frac{\\sqrt{- 4 a c + b^{2}}}{2 a}\\end{matrix}\\right]$$"
   ]
  },
  {
   "cell_type": "markdown",
   "id": "ec0ea724-0f0f-465d-b7a3-702bf9eb6d2a",
   "metadata": {},
   "source": [
    "## 2. General solution for a cubic equation"
   ]
  },
  {
   "cell_type": "code",
   "execution_count": 9,
   "id": "f414edba-7b59-4377-89a7-4db7476d67db",
   "metadata": {},
   "outputs": [
    {
     "name": "stdout",
     "output_type": "stream",
     "text": [
      "2. General solution for cubic equation:\n",
      "ans = $$\\left[\\begin{matrix}- \\frac{- \\frac{3 c}{a} + \\frac{b^{2}}{a^{2}}}{3 \\sqrt[3]{\\frac{\\sqrt{- 4 \\left(- \\frac{3 c}{a} + \\frac{b^{2}}{a^{2}}\\right)^{3} + \\left(\\frac{27 d}{a} - \\frac{9 b c}{a^{2}} + \\frac{2 b^{3}}{a^{3}}\\right)^{2}}}{2} + \\frac{27 d}{2 a} - \\frac{9 b c}{2 a^{2}} + \\frac{b^{3}}{a^{3}}}} - \\frac{\\sqrt[3]{\\frac{\\sqrt{- 4 \\left(- \\frac{3 c}{a} + \\frac{b^{2}}{a^{2}}\\right)^{3} + \\left(\\frac{27 d}{a} - \\frac{9 b c}{a^{2}} + \\frac{2 b^{3}}{a^{3}}\\right)^{2}}}{2} + \\frac{27 d}{2 a} - \\frac{9 b c}{2 a^{2}} + \\frac{b^{3}}{a^{3}}}}{3} - \\frac{b}{3 a}\\\\- \\frac{- \\frac{3 c}{a} + \\frac{b^{2}}{a^{2}}}{3 \\left(- \\frac{1}{2} - \\frac{\\sqrt{3} i}{2}\\right) \\sqrt[3]{\\frac{\\sqrt{- 4 \\left(- \\frac{3 c}{a} + \\frac{b^{2}}{a^{2}}\\right)^{3} + \\left(\\frac{27 d}{a} - \\frac{9 b c}{a^{2}} + \\frac{2 b^{3}}{a^{3}}\\right)^{2}}}{2} + \\frac{27 d}{2 a} - \\frac{9 b c}{2 a^{2}} + \\frac{b^{3}}{a^{3}}}} - \\frac{\\left(- \\frac{1}{2} - \\frac{\\sqrt{3} i}{2}\\right) \\sqrt[3]{\\frac{\\sqrt{- 4 \\left(- \\frac{3 c}{a} + \\frac{b^{2}}{a^{2}}\\right)^{3} + \\left(\\frac{27 d}{a} - \\frac{9 b c}{a^{2}} + \\frac{2 b^{3}}{a^{3}}\\right)^{2}}}{2} + \\frac{27 d}{2 a} - \\frac{9 b c}{2 a^{2}} + \\frac{b^{3}}{a^{3}}}}{3} - \\frac{b}{3 a}\\\\- \\frac{- \\frac{3 c}{a} + \\frac{b^{2}}{a^{2}}}{3 \\left(- \\frac{1}{2} + \\frac{\\sqrt{3} i}{2}\\right) \\sqrt[3]{\\frac{\\sqrt{- 4 \\left(- \\frac{3 c}{a} + \\frac{b^{2}}{a^{2}}\\right)^{3} + \\left(\\frac{27 d}{a} - \\frac{9 b c}{a^{2}} + \\frac{2 b^{3}}{a^{3}}\\right)^{2}}}{2} + \\frac{27 d}{2 a} - \\frac{9 b c}{2 a^{2}} + \\frac{b^{3}}{a^{3}}}} - \\frac{\\left(- \\frac{1}{2} + \\frac{\\sqrt{3} i}{2}\\right) \\sqrt[3]{\\frac{\\sqrt{- 4 \\left(- \\frac{3 c}{a} + \\frac{b^{2}}{a^{2}}\\right)^{3} + \\left(\\frac{27 d}{a} - \\frac{9 b c}{a^{2}} + \\frac{2 b^{3}}{a^{3}}\\right)^{2}}}{2} + \\frac{27 d}{2 a} - \\frac{9 b c}{2 a^{2}} + \\frac{b^{3}}{a^{3}}}}{3} - \\frac{b}{3 a}\\end{matrix}\\right]$$\n"
     ]
    }
   ],
   "source": [
    "% 2. General solution for a cubic equation\n",
    "syms a b c d x\n",
    "cubic_eq = a*x^3 + b*x^2 + c*x + d == 0;\n",
    "sol_cubic = solve(cubic_eq, x);\n",
    "disp('2. General solution for cubic equation:');\n",
    "['$$' latex(sol_cubic) '$$']\n"
   ]
  },
  {
   "cell_type": "markdown",
   "id": "178b92e8-6f8d-4fd2-880d-c7ecbdf16bcf",
   "metadata": {},
   "source": [
    "2. General solution for cubic equation:\n",
    "\n",
    "ans = $$\\left[\\begin{matrix}- \\frac{- \\frac{3 c}{a} + \\frac{b^{2}}{a^{2}}}{3 \\sqrt[3]{\\frac{\\sqrt{- 4 \\left(- \\frac{3 c}{a} + \\frac{b^{2}}{a^{2}}\\right)^{3} + \\left(\\frac{27 d}{a} - \\frac{9 b c}{a^{2}} + \\frac{2 b^{3}}{a^{3}}\\right)^{2}}}{2} + \\frac{27 d}{2 a} - \\frac{9 b c}{2 a^{2}} + \\frac{b^{3}}{a^{3}}}} - \\frac{\\sqrt[3]{\\frac{\\sqrt{- 4 \\left(- \\frac{3 c}{a} + \\frac{b^{2}}{a^{2}}\\right)^{3} + \\left(\\frac{27 d}{a} - \\frac{9 b c}{a^{2}} + \\frac{2 b^{3}}{a^{3}}\\right)^{2}}}{2} + \\frac{27 d}{2 a} - \\frac{9 b c}{2 a^{2}} + \\frac{b^{3}}{a^{3}}}}{3} - \\frac{b}{3 a}\\\\- \\frac{- \\frac{3 c}{a} + \\frac{b^{2}}{a^{2}}}{3 \\left(- \\frac{1}{2} - \\frac{\\sqrt{3} i}{2}\\right) \\sqrt[3]{\\frac{\\sqrt{- 4 \\left(- \\frac{3 c}{a} + \\frac{b^{2}}{a^{2}}\\right)^{3} + \\left(\\frac{27 d}{a} - \\frac{9 b c}{a^{2}} + \\frac{2 b^{3}}{a^{3}}\\right)^{2}}}{2} + \\frac{27 d}{2 a} - \\frac{9 b c}{2 a^{2}} + \\frac{b^{3}}{a^{3}}}} - \\frac{\\left(- \\frac{1}{2} - \\frac{\\sqrt{3} i}{2}\\right) \\sqrt[3]{\\frac{\\sqrt{- 4 \\left(- \\frac{3 c}{a} + \\frac{b^{2}}{a^{2}}\\right)^{3} + \\left(\\frac{27 d}{a} - \\frac{9 b c}{a^{2}} + \\frac{2 b^{3}}{a^{3}}\\right)^{2}}}{2} + \\frac{27 d}{2 a} - \\frac{9 b c}{2 a^{2}} + \\frac{b^{3}}{a^{3}}}}{3} - \\frac{b}{3 a}\\\\- \\frac{- \\frac{3 c}{a} + \\frac{b^{2}}{a^{2}}}{3 \\left(- \\frac{1}{2} + \\frac{\\sqrt{3} i}{2}\\right) \\sqrt[3]{\\frac{\\sqrt{- 4 \\left(- \\frac{3 c}{a} + \\frac{b^{2}}{a^{2}}\\right)^{3} + \\left(\\frac{27 d}{a} - \\frac{9 b c}{a^{2}} + \\frac{2 b^{3}}{a^{3}}\\right)^{2}}}{2} + \\frac{27 d}{2 a} - \\frac{9 b c}{2 a^{2}} + \\frac{b^{3}}{a^{3}}}} - \\frac{\\left(- \\frac{1}{2} + \\frac{\\sqrt{3} i}{2}\\right) \\sqrt[3]{\\frac{\\sqrt{- 4 \\left(- \\frac{3 c}{a} + \\frac{b^{2}}{a^{2}}\\right)^{3} + \\left(\\frac{27 d}{a} - \\frac{9 b c}{a^{2}} + \\frac{2 b^{3}}{a^{3}}\\right)^{2}}}{2} + \\frac{27 d}{2 a} - \\frac{9 b c}{2 a^{2}} + \\frac{b^{3}}{a^{3}}}}{3} - \\frac{b}{3 a}\\end{matrix}\\right]$$"
   ]
  },
  {
   "cell_type": "markdown",
   "id": "285fce5b-6077-4a1a-9421-87d88ee5299f",
   "metadata": {},
   "source": [
    "## 3. Symbolic quadratic function axy − bx − 1 and solve it for x"
   ]
  },
  {
   "cell_type": "code",
   "execution_count": 12,
   "id": "2a49589c-a2d5-46c7-9e5a-9f045250f435",
   "metadata": {},
   "outputs": [
    {
     "name": "stdout",
     "output_type": "stream",
     "text": [
      "3. Solution for x in axy − bx − 1 = 0:\n",
      "$$\\frac{1}{a y - b}$$\n"
     ]
    }
   ],
   "source": [
    "% 3. Symbolic quadratic function axy − bx − 1 and solve it for x\n",
    "syms a b x y; % Define symbolic variables\n",
    "quadratic_func1 = a*x*y - b*x - 1 == 0;\n",
    "sol_func1_x = solve(quadratic_func1, x);\n",
    "disp('3. Solution for x in axy − bx − 1 = 0:');\n",
    "disp(['$$' latex(sol_func1_x) '$$']);"
   ]
  },
  {
   "cell_type": "markdown",
   "id": "ba30b59f-13de-4587-9486-08e49bd8aa58",
   "metadata": {},
   "source": [
    "3. Solution for x in axy − bx − 1 = 0:\n",
    "\n",
    "$$\\frac{1}{a y - b}$$"
   ]
  },
  {
   "cell_type": "markdown",
   "id": "6137ac0c-18ff-49a8-b710-6ec97384ff89",
   "metadata": {},
   "source": [
    "## 4. Symbolic quadratic function axy + bx − 1 and solve it for y"
   ]
  },
  {
   "cell_type": "code",
   "execution_count": 15,
   "id": "8232cd39-41a0-47c0-98ba-d182e1841aaf",
   "metadata": {},
   "outputs": [
    {
     "name": "stdout",
     "output_type": "stream",
     "text": [
      "4. Solution for y in axy + bx − 1 = 0:\n",
      "$$\\frac{- b x + 1}{a x}$$\n"
     ]
    }
   ],
   "source": [
    "% 4. Symbolic quadratic function axy + bx − 1 and solve it for y\n",
    "syms a b x y; % Define symbolic variables\n",
    "quadratic_func2 = a*x*y + b*x - 1 == 0;\n",
    "sol_func2_y = solve(quadratic_func2, y);\n",
    "disp('4. Solution for y in axy + bx − 1 = 0:');\n",
    "disp(['$$' latex(sol_func2_y) '$$']);"
   ]
  },
  {
   "cell_type": "markdown",
   "id": "389f5676-7ba5-4bc8-a6d4-3cdc92f4534f",
   "metadata": {},
   "source": [
    "4. Solution for y in axy + bx − 1 = 0:\n",
    "\n",
    "$$\\frac{- b x + 1}{a x}$$"
   ]
  },
  {
   "cell_type": "markdown",
   "id": "7a554916-635a-495c-854a-0f823e7d0d49",
   "metadata": {},
   "source": [
    "## 5. Solution for the linear system:"
   ]
  },
  {
   "cell_type": "code",
   "execution_count": 18,
   "id": "296ee4b6-fa29-46fb-837c-ba9ae3722cb9",
   "metadata": {},
   "outputs": [
    {
     "name": "stdout",
     "output_type": "stream",
     "text": [
      "<stdin>:7: SymPyDeprecationWarning: \n",
      "\n",
      "non-Expr objects in a Matrix is deprecated. Matrix represents\n",
      "a mathematical matrix. To represent a container of non-numeric\n",
      "entities, Use a list of lists, TableForm, NumPy array, or some\n",
      "other data structure instead.\n",
      "\n",
      "See https://docs.sympy.org/latest/explanation/active-deprecations.html#deprecated-non-expr-in-matrix\n",
      "for details.\n",
      "\n",
      "This has been deprecated since SymPy version 1.9. It\n",
      "will be removed in a future version of SymPy.\n",
      "\n",
      "5. Solution for the linear system:\n",
      "x = 3\n",
      "y = 0\n"
     ]
    }
   ],
   "source": [
    "% 5. Solve the linear equation system 2x + y = 6, x − y = 3.\n",
    "syms x y;\n",
    "\n",
    "eq1 = 2*x + y == 6;\n",
    "eq2 = x - y == 3;\n",
    "\n",
    "[sol_x, sol_y] = solve([eq1, eq2], [x, y]);\n",
    "\n",
    "disp('5. Solution for the linear system:');\n",
    "disp(['x = ', char(sol_x)]);\n",
    "disp(['y = ', char(sol_y)]);"
   ]
  },
  {
   "cell_type": "markdown",
   "id": "789cb8f9-641b-4350-a8ad-6ffae730346f",
   "metadata": {},
   "source": [
    "## 6. Solve the non-linear equation x<sup>2</sup> + sin(x) = 7"
   ]
  },
  {
   "cell_type": "code",
   "execution_count": 20,
   "id": "5f08586f-7932-4143-b0ee-e5afdee377da",
   "metadata": {},
   "outputs": [
    {
     "name": "stdout",
     "output_type": "stream",
     "text": [
      "6. Solution for the non-linear equation x^2 + sin(x) = 7:\n",
      "sol_1 = -2.7217018160665594873717271771054\n",
      "sol_2 = -2.7217018160665594873717271771054\n",
      "sol_3 = 2.5358716545622897419589634019916\n",
      "sol_4 = 2.5358716545622897419589634019916\n"
     ]
    }
   ],
   "source": [
    "% 6. Solve the non-linear equation x^2 + sin(x) = 7\n",
    "syms x;\n",
    "\n",
    "% vpasolve() - Variable-precision numerical solution\n",
    "\n",
    "nonlinear_eq = x^2 + sin(x) == 7;\n",
    "sol_nonlinear_1 = vpasolve(nonlinear_eq, x,-10);\n",
    "sol_nonlinear_2 = vpasolve(nonlinear_eq, x, -5);\n",
    "sol_nonlinear_3 = vpasolve(nonlinear_eq, x,  0);\n",
    "sol_nonlinear_4 = vpasolve(nonlinear_eq, x,  4);\n",
    "\n",
    "disp('6. Solution for the non-linear equation x^2 + sin(x) = 7:');\n",
    "disp(['sol_1 = ', char(sol_nonlinear_1)]);\n",
    "disp(['sol_2 = ', char(sol_nonlinear_2)]);\n",
    "disp(['sol_3 = ', char(sol_nonlinear_3)]);\n",
    "disp(['sol_4 = ', char(sol_nonlinear_4)]);"
   ]
  },
  {
   "cell_type": "markdown",
   "id": "8ebd35a1-0a76-4fb4-a65f-5fad4ff82c13",
   "metadata": {},
   "source": [
    "## 7. Modeling with Proportionality"
   ]
  },
  {
   "cell_type": "markdown",
   "id": "cecca5f3-8c40-4649-80b0-d0c3e910e91d",
   "metadata": {},
   "source": [
    "**Fuel Consumption of a**<br>\n",
    "In order to find the relationship between the distance traveled by a car and the amount of\n",
    "fuel consumed, the following data was collected while driving in a high way with full of fuel\n",
    "in the tank. Tank capacity is 35 liters.\n"
   ]
  },
  {
   "cell_type": "markdown",
   "id": "455bc84f-2e13-472a-aa16-ca5d1dfa8e17",
   "metadata": {},
   "source": [
    "1. Create two row vectors to represent the data in the table."
   ]
  },
  {
   "cell_type": "code",
   "execution_count": 1,
   "id": "4e743a6c-04b6-4c35-b6a8-dcdce1a3cf3b",
   "metadata": {},
   "outputs": [
    {
     "name": "stdout",
     "output_type": "stream",
     "text": [
      "warning: using the fltk graphics toolkit is discouraged\n",
      "\n",
      "The FLTK graphics toolkit is not actively maintained and has a number\n",
      "of limitations that are unlikely to be fixed.\n",
      "The qt toolkit is recommended instead.\n",
      "\n"
     ]
    }
   ],
   "source": [
    "distance = linspace(0,90,10);\n",
    "fuel_amount = [35.0 34.1 33.0 31.9 31.0 30.2 29.0 28.2 27.1 26.0];"
   ]
  },
  {
   "cell_type": "markdown",
   "id": "2eef3f13-cb78-4b43-8777-eeaa010514a7",
   "metadata": {},
   "source": [
    "2. Plot a scatter graph for the fuel consumption with the distance of car traveled. Label\n",
    "the Y axis as \"Fuel consumption (l)\" and X axis as \"Distance (km)\". Label the title\n",
    "as \"Fuel consumption Vs Distance\"."
   ]
  },
  {
   "cell_type": "code",
   "execution_count": 5,
   "id": "f65a16d9-c4c3-412d-9f4a-9a72977bbc43",
   "metadata": {},
   "outputs": [
    {
     "name": "stdout",
     "output_type": "stream",
     "text": [
      "warning: using the gnuplot graphics toolkit is discouraged\n",
      "\n",
      "The gnuplot graphics toolkit is not actively maintained and has a number\n",
      "of limitations that are unlikely to be fixed.  Communication with gnuplot\n",
      "uses a one-directional pipe and limited information is passed back to the\n",
      "Octave interpreter so most changes made interactively in the plot window\n",
      "will not be reflected in the graphics properties managed by Octave.  For\n",
      "example, if the plot window is closed with a mouse click, Octave will not\n",
      "be notified and will not update its internal list of open figure windows.\n",
      "The qt toolkit is recommended instead.\n"
     ]
    },
    {
     "data": {
      "image/png": "[encoded data removed]",
      "text/plain": [
       "<IPython.core.display.Image object>"
      ]
     },
     "metadata": {},
     "output_type": "display_data"
    }
   ],
   "source": [
    "fuel_consumption = 35 - fuel_amount;\n",
    "graphics_toolkit(\"gnuplot\");\n",
    "plot(distance, fuel_consumption, \"or\");\n",
    "xlabel(\"Distance (km)\");\n",
    "ylabel(\"Fuel consumption (l)\");\n",
    "title(\"Fuel consumption Vs Distance\");"
   ]
  },
  {
   "cell_type": "code",
   "execution_count": 6,
   "id": "e437f6f9-a882-4d57-8fcb-ae18b9602ec1",
   "metadata": {},
   "outputs": [
    {
     "name": "stdout",
     "output_type": "stream",
     "text": [
      "p =\n",
      "\n",
      "   9.9091e-02  -9.0909e-03\n",
      "\n",
      "Slope (m): 0.099091\n",
      "Intercept (c): -0.0090909\n"
     ]
    },
    {
     "data": {
      "image/png": "[encoded data removed]",
      "text/plain": [
       "<IPython.core.display.Image object>"
      ]
     },
     "metadata": {},
     "output_type": "display_data"
    }
   ],
   "source": [
    "p = polyfit(distance, fuel_consumption, 1)\n",
    "\n",
    "% Display coefficients\n",
    "disp(['Slope (m): ', num2str(p(1))]);\n",
    "disp(['Intercept (c): ', num2str(p(2))]);\n",
    "\n",
    "% Plot data and fitted line\n",
    "y_fit = polyval(p, distance);\n",
    "plot(distance, fuel_consumption, 'bo', distance, y_fit, 'r-', 'LineWidth', 2);\n",
    "xlabel(\"Distance (km)\");\n",
    "ylabel(\"Fuel consumption (l)\");\n",
    "title(['Fitted Model: y = ' num2str(p(1)) 'x + ' num2str(p(2))]);\n",
    "legend('Data', 'Fitted Line');\n",
    "grid on;"
   ]
  },
  {
   "cell_type": "code",
   "execution_count": 7,
   "id": "61590978-0f6a-46af-a76e-3bc2c8d69636",
   "metadata": {},
   "outputs": [],
   "source": [
    "function y = f(p, x)\n",
    "    y = p(1)*x + p(2)\n",
    "endfunction"
   ]
  },
  {
   "cell_type": "markdown",
   "id": "b0d36302-7421-4f18-9aaa-0ae404654d19",
   "metadata": {},
   "source": [
    "7. Using the estimated model, find fuel remaining in the tank when the car traveled\n",
    "100km. According the model, predict the maximum distance that car can travel\n",
    "consuming full tank of fuel.\n"
   ]
  },
  {
   "cell_type": "code",
   "execution_count": 8,
   "id": "ec2f6642-868b-4720-8690-0a644ec74daf",
   "metadata": {},
   "outputs": [
    {
     "name": "stdout",
     "output_type": "stream",
     "text": [
      "y = 9.9000\n",
      "9.9 leters\n",
      "Fuel consumed - 9.9 leters\n",
      "Fuel remaining - 25.1 leters\n"
     ]
    }
   ],
   "source": [
    "display([num2str(f(p, 100)) ' leters'])\n",
    "\n",
    "% method 2\n",
    "fuel_at_100km = 35 - polyval(p, [100]);\n",
    "\n",
    "display(['Fuel consumed - ', num2str(polyval(p, 100)), ' leters'])\n",
    "display(['Fuel remaining - ', num2str(fuel_at_100km), ' leters'])"
   ]
  },
  {
   "cell_type": "code",
   "execution_count": 23,
   "id": "340bb3f4-b552-4702-ae08-fd4552600f9f",
   "metadata": {},
   "outputs": [
    {
     "name": "stdout",
     "output_type": "stream",
     "text": [
      "warning: passing floating-point values to sym is dangerous, see \"help sym\"\n",
      "warning: called from\n",
      "    double_to_sym_heuristic at line 50 column 7\n",
      "    sym at line 384 column 13\n",
      "    mtimes at line 54 column 5\n",
      "    @<anonymous> at line 1 column 24\n",
      "\n",
      "warning: passing floating-point values to sym is dangerous, see \"help sym\"\n",
      "warning: called from\n",
      "    double_to_sym_heuristic at line 50 column 7\n",
      "    sym at line 384 column 13\n",
      "    plus at line 53 column 5\n",
      "    @<anonymous> at line 1 column 24\n",
      "\n",
      "Full distance: 38510/109\n"
     ]
    }
   ],
   "source": [
    "pkg load symbolic % Load the symbolic package\n",
    "\n",
    "% Define symbolic variable\n",
    "syms x1;\n",
    "\n",
    "% Define the function f(p, x)\n",
    "f = @(p, x1) p(1) * x1 + p(2);\n",
    "\n",
    "% Solve the equation: f(p, x) == 0\n",
    "full_distance = solve(f(p, x1) == 35, x1);\n",
    "\n",
    "% Display the result\n",
    "disp(['Full distance: ', char(full_distance)]);\n",
    "\n",
    "\n",
    "full_distance = (35 - p(2))/p(2);"
   ]
  },
  {
   "cell_type": "markdown",
   "id": "08964eaf-8b74-449d-bd1d-5fd8ffafd59c",
   "metadata": {},
   "source": [
    "8. Find the corresponding error at the each point( error =|actual value−predicted value|)\n",
    "when you use the model. Find the sum of squares. (See the last page of the note:\n",
    "Week 02 readings)\n"
   ]
  },
  {
   "cell_type": "code",
   "execution_count": 25,
   "id": "0bad59c5-fc91-4436-aaed-0a6abd5be2ad",
   "metadata": {},
   "outputs": [
    {
     "name": "stdout",
     "output_type": "stream",
     "text": [
      "Errors at each point: \n",
      " Columns 1 through 6:\n",
      "\n",
      "   9.0909e-03   8.1818e-02   2.7273e-02   1.3636e-01   4.5455e-02   1.4545e-01\n",
      "\n",
      " Columns 7 through 10:\n",
      "\n",
      "   6.3636e-02   1.2727e-01   1.8182e-02   9.0909e-02\n",
      "Sum of Squared Errors (SSE): \n",
      "0.078182\n"
     ]
    }
   ],
   "source": [
    "% Actual fuel consumption values (actual values)\n",
    "actual_fuel_consumption = fuel_amount;  % This is your actual data\n",
    "\n",
    "% Predicted fuel consumption values (predicted values)\n",
    "predicted_fuel_consumption = 35 - y_fit;  % This is the model's output\n",
    "\n",
    "% Compute the errors (absolute differences)\n",
    "errors = abs(actual_fuel_consumption - predicted_fuel_consumption);\n",
    "\n",
    "% Compute the sum of squared errors (SSE)\n",
    "SSE = sum(errors.^2);\n",
    "\n",
    "% Display results\n",
    "disp(\"Errors at each point: \");\n",
    "disp(errors);\n",
    "disp(\"Sum of Squared Errors (SSE): \");\n",
    "disp(SSE);\n"
   ]
  }
 ],
 "metadata": {
  "kernelspec": {
   "display_name": "Octave",
   "language": "octave",
   "name": "octave"
  },
  "language_info": {
   "file_extension": ".m",
   "help_links": [
    {
     "text": "GNU Octave",
     "url": "https://www.gnu.org/software/octave/support.html"
    },
    {
     "text": "Octave Kernel",
     "url": "https://github.com/Calysto/octave_kernel"
    },
    {
     "text": "MetaKernel Magics",
     "url": "https://metakernel.readthedocs.io/en/latest/source/README.html"
    }
   ],
   "mimetype": "text/x-octave",
   "name": "octave",
   "version": "9.2.0"
  }
 },
 "nbformat": 4,
 "nbformat_minor": 5
}
